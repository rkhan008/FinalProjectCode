{
  "nbformat": 4,
  "nbformat_minor": 0,
  "metadata": {
    "colab": {
      "name": "CovidModel (Coloured images).ipynb",
      "provenance": [],
      "collapsed_sections": []
    },
    "kernelspec": {
      "display_name": "Python 3",
      "name": "python3"
    }
  },
  "cells": [
    {
      "cell_type": "markdown",
      "metadata": {
        "id": "GUVaZOuhOv06"
      },
      "source": [
        "<h1> Final Project COVID model development </h1>"
      ]
    },
    {
      "cell_type": "markdown",
      "metadata": {
        "id": "oCXkj_dLt2UK"
      },
      "source": [
        "## Data proprocessing\n",
        "\n",
        "The following section involves code for pre-processing the data before it can be passed through a neural network"
      ]
    },
    {
      "cell_type": "code",
      "metadata": {
        "id": "i07pq8GVaJE0"
      },
      "source": [
        "#Load all relevant libraries \n",
        "import numpy as np\n",
        "import matplotlib.pyplot as plt\n",
        "import os\n",
        "import cv2\n",
        "import sklearn\n",
        "from sklearn.model_selection import train_test_split\n",
        "import pickle\n",
        "import tensorflow as tf\n",
        "import keras"
      ],
      "execution_count": 2,
      "outputs": []
    },
    {
      "cell_type": "code",
      "metadata": {
        "id": "i7lvaQWSt7QY"
      },
      "source": [
        "# Code to view an image\n",
        "DATADIR = '/content/drive/MyDrive/FinalProject/LatestCovidDataset' \n",
        "\n",
        "#The 2 categories we are interested in\n",
        "CATEGORIES = ['Normal','COVID']\n",
        "\n",
        "for category in CATEGORIES:\n",
        "  path = os.path.join(DATADIR, category)\n",
        "  for img in os.listdir(path):\n",
        "    img_array = cv2.imread(os.path.join(path,img), cv2.IMREAD_GRAYSCALE)\n",
        "    plt.imshow(img_array, cmap=\"gray\")\n",
        "    plt.show()\n",
        "    break\n",
        "  break"
      ],
      "execution_count": null,
      "outputs": []
    },
    {
      "cell_type": "code",
      "metadata": {
        "colab": {
          "base_uri": "https://localhost:8080/",
          "height": 0
        },
        "id": "m1XTz-XsutA0",
        "outputId": "165745ac-4621-4593-c2d7-d5e8acb258ca"
      },
      "source": [
        "training_data = []   #Array to store training images \n",
        "\n",
        "#load file path to dataset\n",
        "DATADIR = '/content/drive/MyDrive/FinalProject/LatestCovidDataset'\n",
        "#Labels\n",
        "CATEGORIES = ['Normal','COVID']\n",
        "\n",
        "#Function pre-process images \n",
        "def create_training_data():\n",
        "  for category in CATEGORIES:\n",
        "    path = os.path.join(DATADIR, category)\n",
        "    class_num = CATEGORIES.index(category)\n",
        "    print(class_num)\n",
        "    for img in os.listdir(path):\n",
        "      try:\n",
        "        img_array = cv2.imread(os.path.join(path, img))\n",
        "        # resize all images \n",
        "        new_array = cv2.resize(img_array, (60,60))  \n",
        "        # store images in array with labels\n",
        "        training_data.append([new_array, class_num])  \n",
        "      except Exception as e:\n",
        "        pass\n",
        "\n",
        "create_training_data()"
      ],
      "execution_count": 3,
      "outputs": [
        {
          "output_type": "stream",
          "text": [
            "0\n",
            "1\n"
          ],
          "name": "stdout"
        }
      ]
    },
    {
      "cell_type": "code",
      "metadata": {
        "colab": {
          "base_uri": "https://localhost:8080/",
          "height": 0
        },
        "id": "pcnQ-L4uxjwx",
        "outputId": "81018ef0-a57a-41ac-a598-ab65fbb15763"
      },
      "source": [
        "print(len(training_data))"
      ],
      "execution_count": 4,
      "outputs": [
        {
          "output_type": "stream",
          "text": [
            "7600\n"
          ],
          "name": "stdout"
        }
      ]
    },
    {
      "cell_type": "code",
      "metadata": {
        "id": "YI3Mzw2iwQQV"
      },
      "source": [
        "X = []\n",
        "Y = []\n",
        "\n",
        "#Store images and labels in seperate arrays\n",
        "for features, label in training_data:\n",
        "  X.append(features)\n",
        "  Y.append(label)\n",
        "\n",
        "#store images in numpy arrays\n",
        "X = np.array(X).reshape(-1, 60, 60, 3)\n",
        "Y = np.array(Y)\n",
        "\n",
        "#normalise images\n",
        "X = X/255.0"
      ],
      "execution_count": 5,
      "outputs": []
    },
    {
      "cell_type": "code",
      "metadata": {
        "id": "9H-ho986wR23"
      },
      "source": [
        "#dataset split to training and testing. \n",
        "x_train, x_test, y_train, y_test = train_test_split(X,Y, test_size=0.2, random_state=42, stratify=Y)"
      ],
      "execution_count": 6,
      "outputs": []
    },
    {
      "cell_type": "code",
      "metadata": {
        "colab": {
          "base_uri": "https://localhost:8080/",
          "height": 0
        },
        "id": "lVZOEqL-0NXh",
        "outputId": "5c53f62d-d6a2-46b5-d8d3-57074e6fb652"
      },
      "source": [
        "print('x_train', x_train.shape)\n",
        "print('y_train', y_train.shape)\n",
        "print('x_test', x_test.shape)\n",
        "print('y_test', y_test.shape)"
      ],
      "execution_count": 7,
      "outputs": [
        {
          "output_type": "stream",
          "text": [
            "x_train (6080, 60, 60, 3)\n",
            "y_train (6080,)\n",
            "x_test (1520, 60, 60, 3)\n",
            "y_test (1520,)\n"
          ],
          "name": "stdout"
        }
      ]
    },
    {
      "cell_type": "code",
      "metadata": {
        "colab": {
          "base_uri": "https://localhost:8080/",
          "height": 0
        },
        "id": "wOYYhZNd2BS3",
        "outputId": "26ce0d8f-509d-4f78-992a-eb5db2e9effe"
      },
      "source": [
        "print(y_train[:10])\n",
        "print(y_test[:10])\n"
      ],
      "execution_count": 8,
      "outputs": [
        {
          "output_type": "stream",
          "text": [
            "[0 1 1 0 0 1 1 1 1 0]\n",
            "[1 0 1 0 1 0 0 0 0 0]\n"
          ],
          "name": "stdout"
        }
      ]
    },
    {
      "cell_type": "code",
      "metadata": {
        "colab": {
          "base_uri": "https://localhost:8080/",
          "height": 0
        },
        "id": "I-yyqP983qyI",
        "outputId": "fde8872a-0f71-47a2-ca20-9a272ed37ac3"
      },
      "source": [
        "count = 0\n",
        "\n",
        "for i in y_train:\n",
        "  if i == 1:\n",
        "    count = count + 1\n",
        "\n",
        "print (count)"
      ],
      "execution_count": 9,
      "outputs": [
        {
          "output_type": "stream",
          "text": [
            "2890\n"
          ],
          "name": "stdout"
        }
      ]
    },
    {
      "cell_type": "markdown",
      "metadata": {
        "id": "Wc80R55s7B7N"
      },
      "source": [
        "## Building the model\n",
        "\n",
        "The following section contains code for building the models for the various experiments."
      ]
    },
    {
      "cell_type": "code",
      "metadata": {
        "id": "Sb3tfMQ-5gCs"
      },
      "source": [
        "from tensorflow.keras import models\n",
        "from tensorflow.keras import layers\n",
        "from tensorflow.keras import regularizers\n",
        "import pickle\n",
        "from keras.callbacks import EarlyStopping"
      ],
      "execution_count": 60,
      "outputs": []
    },
    {
      "cell_type": "code",
      "metadata": {
        "id": "vGRyQhas6An3"
      },
      "source": [
        "#A custom early stopping function created for early stopping experiments \n",
        "custom_early_stopping = EarlyStopping(\n",
        "    monitor='val_loss',\n",
        "    patience=6,\n",
        "    min_delta=0.001,\n",
        "    mode='min'\n",
        ")"
      ],
      "execution_count": 61,
      "outputs": []
    },
    {
      "cell_type": "code",
      "metadata": {
        "colab": {
          "base_uri": "https://localhost:8080/",
          "height": 0
        },
        "id": "fms2mA3eThh1",
        "outputId": "e51ca87e-8511-4e1c-f02e-b4a36c1e6232"
      },
      "source": [
        "#Build convolutional neural network\n",
        "model = models.Sequential()\n",
        "model.add(layers.Conv2D(32,(3,3), activation='relu', input_shape=X.shape[1:]))\n",
        "model.add(layers.MaxPooling2D((2,2)))\n",
        "model.add(layers.Conv2D(64,(3,3), activation='relu'))\n",
        "model.add(layers.MaxPooling2D((2,2)))\n",
        "model.add(layers.Conv2D(128,(3,3), activation='relu'))\n",
        "model.add(layers.MaxPooling2D((2,2)))\n",
        "model.add(layers.Dropout(0.5))\n",
        "\n",
        "#flatten 3d array to 1d array \n",
        "model.add(layers.Flatten())\n",
        "#dense layer      \n",
        "model.add(layers.Dense(512, activation='relu'))  \n",
        "#output results using sigmoid activation\n",
        "model.add(layers.Dense(1, activation='sigmoid'))    \n",
        "\n",
        "model.compile(loss='binary_crossentropy',\n",
        "             optimizer='adam',\n",
        "             metrics=['accuracy']\n",
        "             )\n",
        "\n",
        "history = model.fit(x_train,\n",
        "                    y_train,\n",
        "                    batch_size=64,\n",
        "                    epochs=100,\n",
        "                    validation_split = 0.20,     #20% of training data\n",
        "                    callbacks=[custom_early_stopping]\n",
        "                    )"
      ],
      "execution_count": 62,
      "outputs": [
        {
          "output_type": "stream",
          "text": [
            "Epoch 1/100\n",
            "76/76 [==============================] - 31s 401ms/step - loss: 0.6716 - accuracy: 0.5616 - val_loss: 0.4677 - val_accuracy: 0.7632\n",
            "Epoch 2/100\n",
            "76/76 [==============================] - 30s 394ms/step - loss: 0.4569 - accuracy: 0.7715 - val_loss: 0.4136 - val_accuracy: 0.8051\n",
            "Epoch 3/100\n",
            "76/76 [==============================] - 30s 394ms/step - loss: 0.3928 - accuracy: 0.8194 - val_loss: 0.3612 - val_accuracy: 0.8298\n",
            "Epoch 4/100\n",
            "76/76 [==============================] - 30s 394ms/step - loss: 0.3211 - accuracy: 0.8446 - val_loss: 0.3435 - val_accuracy: 0.8421\n",
            "Epoch 5/100\n",
            "76/76 [==============================] - 30s 393ms/step - loss: 0.2975 - accuracy: 0.8642 - val_loss: 0.2908 - val_accuracy: 0.8783\n",
            "Epoch 6/100\n",
            "76/76 [==============================] - 30s 392ms/step - loss: 0.2505 - accuracy: 0.8907 - val_loss: 0.2978 - val_accuracy: 0.8692\n",
            "Epoch 7/100\n",
            "76/76 [==============================] - 30s 392ms/step - loss: 0.2279 - accuracy: 0.9052 - val_loss: 0.2799 - val_accuracy: 0.8824\n",
            "Epoch 8/100\n",
            "76/76 [==============================] - 30s 393ms/step - loss: 0.2058 - accuracy: 0.9208 - val_loss: 0.2371 - val_accuracy: 0.9030\n",
            "Epoch 9/100\n",
            "76/76 [==============================] - 30s 393ms/step - loss: 0.1734 - accuracy: 0.9260 - val_loss: 0.2546 - val_accuracy: 0.8923\n",
            "Epoch 10/100\n",
            "76/76 [==============================] - 30s 395ms/step - loss: 0.1652 - accuracy: 0.9312 - val_loss: 0.2848 - val_accuracy: 0.8898\n",
            "Epoch 11/100\n",
            "76/76 [==============================] - 30s 393ms/step - loss: 0.1614 - accuracy: 0.9359 - val_loss: 0.2357 - val_accuracy: 0.9087\n",
            "Epoch 12/100\n",
            "76/76 [==============================] - 30s 392ms/step - loss: 0.1299 - accuracy: 0.9484 - val_loss: 0.2411 - val_accuracy: 0.8947\n",
            "Epoch 13/100\n",
            "76/76 [==============================] - 30s 392ms/step - loss: 0.1213 - accuracy: 0.9515 - val_loss: 0.2814 - val_accuracy: 0.8865\n",
            "Epoch 14/100\n",
            "76/76 [==============================] - 30s 392ms/step - loss: 0.1090 - accuracy: 0.9577 - val_loss: 0.2627 - val_accuracy: 0.9005\n",
            "Epoch 15/100\n",
            "76/76 [==============================] - 30s 392ms/step - loss: 0.0963 - accuracy: 0.9629 - val_loss: 0.2767 - val_accuracy: 0.8890\n",
            "Epoch 16/100\n",
            "76/76 [==============================] - 30s 393ms/step - loss: 0.0763 - accuracy: 0.9678 - val_loss: 0.2336 - val_accuracy: 0.9153\n",
            "Epoch 17/100\n",
            "76/76 [==============================] - 30s 393ms/step - loss: 0.0947 - accuracy: 0.9637 - val_loss: 0.2590 - val_accuracy: 0.9194\n",
            "Epoch 18/100\n",
            "76/76 [==============================] - 30s 394ms/step - loss: 0.0643 - accuracy: 0.9752 - val_loss: 0.2054 - val_accuracy: 0.9367\n",
            "Epoch 19/100\n",
            "76/76 [==============================] - 30s 398ms/step - loss: 0.0585 - accuracy: 0.9782 - val_loss: 0.2360 - val_accuracy: 0.9243\n",
            "Epoch 20/100\n",
            "76/76 [==============================] - 30s 397ms/step - loss: 0.0433 - accuracy: 0.9837 - val_loss: 0.2334 - val_accuracy: 0.9243\n",
            "Epoch 21/100\n",
            "76/76 [==============================] - 30s 396ms/step - loss: 0.0445 - accuracy: 0.9842 - val_loss: 0.2623 - val_accuracy: 0.9169\n",
            "Epoch 22/100\n",
            "76/76 [==============================] - 30s 397ms/step - loss: 0.0574 - accuracy: 0.9792 - val_loss: 0.2406 - val_accuracy: 0.9367\n",
            "Epoch 23/100\n",
            "76/76 [==============================] - 30s 394ms/step - loss: 0.0459 - accuracy: 0.9825 - val_loss: 0.2643 - val_accuracy: 0.9211\n",
            "Epoch 24/100\n",
            "76/76 [==============================] - 30s 393ms/step - loss: 0.0315 - accuracy: 0.9887 - val_loss: 0.3043 - val_accuracy: 0.9186\n"
          ],
          "name": "stdout"
        }
      ]
    },
    {
      "cell_type": "code",
      "metadata": {
        "id": "8OrwhjtOF1Ze"
      },
      "source": [
        "#Save entire model for website\n",
        "#model.save(\"CovidModelSave.h5\")"
      ],
      "execution_count": 68,
      "outputs": []
    },
    {
      "cell_type": "code",
      "metadata": {
        "colab": {
          "base_uri": "https://localhost:8080/",
          "height": 17
        },
        "id": "HqDcZ80BUc2h",
        "outputId": "6712aa14-9cfc-4f8c-88bc-2ad18aeed203"
      },
      "source": [
        "#from google.colab import files\n",
        "#files.download(\"CovidWeights.h5\")"
      ],
      "execution_count": null,
      "outputs": [
        {
          "output_type": "display_data",
          "data": {
            "application/javascript": [
              "\n",
              "    async function download(id, filename, size) {\n",
              "      if (!google.colab.kernel.accessAllowed) {\n",
              "        return;\n",
              "      }\n",
              "      const div = document.createElement('div');\n",
              "      const label = document.createElement('label');\n",
              "      label.textContent = `Downloading \"${filename}\": `;\n",
              "      div.appendChild(label);\n",
              "      const progress = document.createElement('progress');\n",
              "      progress.max = size;\n",
              "      div.appendChild(progress);\n",
              "      document.body.appendChild(div);\n",
              "\n",
              "      const buffers = [];\n",
              "      let downloaded = 0;\n",
              "\n",
              "      const channel = await google.colab.kernel.comms.open(id);\n",
              "      // Send a message to notify the kernel that we're ready.\n",
              "      channel.send({})\n",
              "\n",
              "      for await (const message of channel.messages) {\n",
              "        // Send a message to notify the kernel that we're ready.\n",
              "        channel.send({})\n",
              "        if (message.buffers) {\n",
              "          for (const buffer of message.buffers) {\n",
              "            buffers.push(buffer);\n",
              "            downloaded += buffer.byteLength;\n",
              "            progress.value = downloaded;\n",
              "          }\n",
              "        }\n",
              "      }\n",
              "      const blob = new Blob(buffers, {type: 'application/binary'});\n",
              "      const a = document.createElement('a');\n",
              "      a.href = window.URL.createObjectURL(blob);\n",
              "      a.download = filename;\n",
              "      div.appendChild(a);\n",
              "      a.click();\n",
              "      div.remove();\n",
              "    }\n",
              "  "
            ],
            "text/plain": [
              "<IPython.core.display.Javascript object>"
            ]
          },
          "metadata": {
            "tags": []
          }
        },
        {
          "output_type": "display_data",
          "data": {
            "application/javascript": [
              "download(\"download_66bf4df6-a0ff-44f1-97e7-cdbec82a96fb\", \"CovidWeights.h5\", 3267480)"
            ],
            "text/plain": [
              "<IPython.core.display.Javascript object>"
            ]
          },
          "metadata": {
            "tags": []
          }
        }
      ]
    },
    {
      "cell_type": "code",
      "metadata": {
        "colab": {
          "base_uri": "https://localhost:8080/"
        },
        "id": "L6l9TrROyzCN",
        "outputId": "05a67d79-a8ab-48b4-f4ea-f6e7664d63ec"
      },
      "source": [
        "model.summary()"
      ],
      "execution_count": null,
      "outputs": [
        {
          "output_type": "stream",
          "text": [
            "Model: \"sequential_1\"\n",
            "_________________________________________________________________\n",
            "Layer (type)                 Output Shape              Param #   \n",
            "=================================================================\n",
            "conv2d_3 (Conv2D)            (None, 59, 59, 124)       1612      \n",
            "_________________________________________________________________\n",
            "max_pooling2d_3 (MaxPooling2 (None, 29, 29, 124)       0         \n",
            "_________________________________________________________________\n",
            "conv2d_4 (Conv2D)            (None, 28, 28, 160)       79520     \n",
            "_________________________________________________________________\n",
            "max_pooling2d_4 (MaxPooling2 (None, 14, 14, 160)       0         \n",
            "_________________________________________________________________\n",
            "conv2d_5 (Conv2D)            (None, 12, 12, 186)       268026    \n",
            "_________________________________________________________________\n",
            "max_pooling2d_5 (MaxPooling2 (None, 6, 6, 186)         0         \n",
            "_________________________________________________________________\n",
            "flatten_1 (Flatten)          (None, 6696)              0         \n",
            "_________________________________________________________________\n",
            "dense_2 (Dense)              (None, 512)               3428864   \n",
            "_________________________________________________________________\n",
            "dense_3 (Dense)              (None, 1)                 513       \n",
            "=================================================================\n",
            "Total params: 3,778,535\n",
            "Trainable params: 3,778,535\n",
            "Non-trainable params: 0\n",
            "_________________________________________________________________\n"
          ],
          "name": "stdout"
        }
      ]
    },
    {
      "cell_type": "code",
      "metadata": {
        "id": "kC0WGlyj5Xhe"
      },
      "source": [
        "#plot training vs validation accuracy performance \n",
        "history_dict = history.history\n",
        "\n",
        "def plot_acc():\n",
        "    \n",
        "    plt.clf()\n",
        "\n",
        "    acc = history_dict['accuracy']\n",
        "    val_acc = history_dict['val_accuracy']\n",
        "    \n",
        "    epochs = range(1, len(acc) + 1)\n",
        "    \n",
        "    plt.plot(epochs, acc, 'bo', label = 'Training acc')\n",
        "    plt.plot(epochs, val_acc, 'b', label = 'Validation acc')\n",
        "    plt.title('Training and validation acc')\n",
        "    plt.xlabel('Epochs')\n",
        "    plt.ylabel('Accuracy')\n",
        "    plt.legend()\n",
        "\n",
        "    plt.savefig('val_loss (acc).png', dpi=300)\n",
        "\n",
        "    plt.show()"
      ],
      "execution_count": 63,
      "outputs": []
    },
    {
      "cell_type": "code",
      "metadata": {
        "colab": {
          "base_uri": "https://localhost:8080/",
          "height": 295
        },
        "id": "c3plZ8d35ms2",
        "outputId": "0c354125-5e20-4a95-aec2-05701241f1e4"
      },
      "source": [
        "plot_acc()"
      ],
      "execution_count": 64,
      "outputs": [
        {
          "output_type": "display_data",
          "data": {
            "image/png": "[encoded data removed]",
            "text/plain": [
              "<Figure size 432x288 with 1 Axes>"
            ]
          },
          "metadata": {
            "tags": [],
            "needs_background": "light"
          }
        }
      ]
    },
    {
      "cell_type": "code",
      "metadata": {
        "id": "VcpIaEFm5oJA"
      },
      "source": [
        "#plot training vs validation loss performance \n",
        "\n",
        "def plot_loss():\n",
        "\n",
        "    history_dict = history.history\n",
        "    loss = history_dict['loss']\n",
        "    val_loss = history_dict['val_loss']\n",
        "\n",
        "    epochs = range(1, len(loss) + 1)\n",
        "\n",
        "    blue_dots = 'bo'\n",
        "    solid_blue_line = 'b'\n",
        "\n",
        "    plt.plot(epochs, loss, blue_dots, label = 'Training loss')\n",
        "    plt.plot(epochs, val_loss, solid_blue_line, label = 'Validation loss')\n",
        "    plt.title('Training and validation loss')\n",
        "    plt.xlabel('Epochs')\n",
        "    plt.ylabel('Loss')\n",
        "    plt.legend()\n",
        "\n",
        "    plt.savefig('val_loss (loss).png', dpi=300)\n",
        "\n",
        "    plt.show()"
      ],
      "execution_count": 65,
      "outputs": []
    },
    {
      "cell_type": "code",
      "metadata": {
        "colab": {
          "base_uri": "https://localhost:8080/",
          "height": 295
        },
        "id": "qAJCuTGs5p_r",
        "outputId": "26cb3f89-219d-47b5-99a4-bd3fa505a467"
      },
      "source": [
        " plot_loss()"
      ],
      "execution_count": 66,
      "outputs": [
        {
          "output_type": "display_data",
          "data": {
            "image/png": "[encoded data removed]",
            "text/plain": [
              "<Figure size 432x288 with 1 Axes>"
            ]
          },
          "metadata": {
            "tags": [],
            "needs_background": "light"
          }
        }
      ]
    },
    {
      "cell_type": "markdown",
      "metadata": {
        "id": "bH7hPpP8cyTu"
      },
      "source": [
        "# Experiments \n",
        "\n",
        "The following section contains all the experiments conducted."
      ]
    },
    {
      "cell_type": "markdown",
      "metadata": {
        "id": "U7eXjUKUC6QT"
      },
      "source": [
        "##1-Layer Experiments "
      ]
    },
    {
      "cell_type": "markdown",
      "metadata": {
        "id": "ilAOEks4C90o"
      },
      "source": [
        "|Number of conv layers|Filters|Val-Accuracy|Optimum epoch|Grid-size|\n",
        "|:-------|:-------|:-------|:-------|:-------|\n",
        "|1|4|0.8914|20|(2,2)\n",
        "|1|12|0.8949|20|(2,2)\n",
        "|1|32|0.9153|20|(2,2)\n",
        "|1|64|0.9243|19|(2,2)\n",
        "|1|96|0.9268|19|(2,2)\n",
        "\n",
        "<br>\n",
        "\n",
        "From the table of results it can be seen that the optimum epoch is generally reached at the final epoch. This highlights that the model is underfitting. Underfitting refers to when a model does not fit the training data well enough meaning it cannot generalise. A filter is a set of learnable weights which are learned using the backpropagation algorithm. Effectively, each filter in a convolutional layer stores a single tempalte or pattern derived from the input image. The more filters that are used in a ocnvolutional layer the more patterns tha can be learned up to a certain point. When the number of filters are increased it seems the optimum epoch is still reached at the very end of the training process, highlihgting that the network is likely to be too small and weak.\n",
        "\n",
        "<br>\n",
        "\n",
        "![1 conv 4 filter Acc](https://drive.google.com/uc?export=view&id=1M4qw8yYZORbnBOzfUNiRglLxkZtUYzcH)\n",
        "![1 conv 4 filter Loss](https://drive.google.com/uc?export=view&id=18VMEYfE1OpZjGJlA4uSGtBPTfRJvTWwh)\n",
        "\n",
        "<br> \n",
        "\n",
        "The above graphs present the accuracy and loss when using 4 filters. We can see that there is a gap between the validation and training accuracy/loss. This is expected given that the validation set contained unseen data. The validation accuracy continues to increase up-to even the last epoch. \n",
        "\n",
        "<br>\n",
        "\n",
        "![1 conv 96 filter Acc](https://drive.google.com/uc?export=view&id=1KhVWBv4fK-bd53bfVl-kx1VirYq1iZXg)\n",
        "![1 conv 96 filter Loss](https://drive.google.com/uc?export=view&id=1GFhXxRRwvt8nEmyORZK2zHZjaAB9nTw7)\n",
        "\n",
        "The graphs above represent the performance of the 96 filter model. There seems to be not much difference in these graphs in comparison to the graphs for the 4 filter model. Therefore, increasing the amount of filters for a 1 layer covnet seems to have no significant impact on validation performance. \n",
        "\n",
        "<br>\n",
        "\n",
        "In a convolutional layer, a  filter slides over all the pixels of the image taking their dot product. This is done with the hopes that the linear combination of the pixels weighted by the convolutional filter extracts some kind of feature from the image. Usually, an odd-sized filter is used because all the previous layer pixels are symmetrically around the output pixel. When even sized kernals are used, there may be distortions across the layers that need to be dealt. I opted to experiment with a (2,2) grid and then a (3,3) to explore the differences if any. \n",
        "\n",
        "![1 conv 96 filter Acc (3,3)](https://drive.google.com/uc?export=view&id=12rcFXSxvQ9g0YfDR4cm-WbFkelvBBkSQ)\n",
        "![1 conv 96 filter Loss (3,3)](https://drive.google.com/uc?export=view&id=1IP8Yk2-1DDmDjjq0h2jjerGurmsmfLEY)\n",
        "\n",
        "If we compare the graphs above with the previous graphs, it can be seen that using a (3,3) grid results in less differences in performance between the training and validation performances. \n",
        "\n",
        "Based on these experiments it seems using only 1 convolutional layer results in underfitting even when increasing the number of filters. This suggest that the model is underpowered and therefore more convolutional layers may be required. \n",
        "\n",
        "\n",
        "\n"
      ]
    },
    {
      "cell_type": "markdown",
      "metadata": {
        "id": "Ktolwe7CZjmf"
      },
      "source": [
        "## 2-Layer Experiments"
      ]
    },
    {
      "cell_type": "markdown",
      "metadata": {
        "id": "0B9j3t4XMI-A"
      },
      "source": [
        "|Number of conv layers|Filters|Val-Accuracy|Optimum epoch|Grid-size|\n",
        "|:-------|:-------|:-------|:-------|:-------|\n",
        "|2|4,12|0.9276|20|(2,2)\n",
        "|2|12,32|0.9079|17|(2,2)\n",
        "|2|32,64|0.9087|20|(2,2)\n",
        "|2|64,96|0.9408|16|(2,2)\n",
        "|2|96,124|0.9474|20|(2,2)\n",
        "|2|124,160|0.9441|16|(2,2)\n",
        "\n",
        "<br> \n",
        "\n",
        "As the number of filters increase in the 2-layer experiments the optimum validation accuracy gradually increases aswell. More filters mean that the neural network is able to learn complex features/patterns and therefore more accurately classify the images. \n",
        "\n",
        "![2 conv 4,12 filter Acc (2,2)](https://drive.google.com/uc?export=view&id=194AjJi-cL0cQT9foPMHioXzIC_gMBzAo)\n",
        "![2 conv 4,12 filter Loss (2,2)](https://drive.google.com/uc?export=view&id=1H9xtAFvACsGUQiX2WbDRo4vk9gUEHih3)\n",
        "\n",
        "From the above graphs, presenting performance of the (4,12) model, we can see that the model is underfitting due to the small network. The optimum validation accuracy (0.9104) is reached at epoch 17. After this point it seems performance seems to plateau. \n",
        "\n",
        "![2 conv 64,96 filter Acc (2,2)](https://drive.google.com/uc?export=view&id=1fj6vefyr4iZIYJ2M1MSGw2EnjwxUSIWH)\n",
        "![2 conv 64,96 filter Loss (2,2)](https://drive.google.com/uc?export=view&id=1mmN3FaY0L2Df6e_nKLjXyi_GtBvi38zV)\n",
        "\n",
        "It can be seen from the (64,96) model graphs above, increasing the number of filters and therefore complexity of a model results in a reduction of underfitting, up to a certain point. It can also be seen that the difference between the training and validation performance in terms of accuracy and loss seems to be greater for this larger model. This suggests, during the latter stage of training, the model starts to overfit.   \n",
        "\n",
        "\n",
        "\n",
        "\n",
        "\n",
        "\n",
        "\n",
        "\n",
        "\n",
        "\n",
        "\n"
      ]
    },
    {
      "cell_type": "markdown",
      "metadata": {
        "id": "MVwfv-wATFBo"
      },
      "source": [
        "## 3-Layer Experiments\n"
      ]
    },
    {
      "cell_type": "markdown",
      "metadata": {
        "id": "VjG-_l8CP-0y"
      },
      "source": [
        "|Number of conv layers|Filters|Val-Accuracy|Optimum epoch|Grid-size|\n",
        "|:-------|:-------|:-------|:-------|:-------|\n",
        "|3|4,12,32|0.9054|17|(2,2)\n",
        "|3|32,64,128|0.9350|20|(2,2)\n",
        "|3|64,96,128|0.9352|19|(2,2)\n",
        "|3|96,128,160|0.9317|18|(2,2)\n",
        "|3|128,160,186|0.9408|17|(2,2)\n",
        "\n",
        "<br>\n",
        "\n",
        "![2 conv 4,12,32 filter Acc (2,2)](https://drive.google.com/uc?export=view&id=1_clcx6IT1GvFIZP8S0aqUnMu0DipP80V)\n",
        "![2 conv 4,12,32 filter Loss (2,2)](https://drive.google.com/uc?export=view&id=1lmiXDJFcD4E-hGUSgDdiO1xzLEr1kLsq)\n",
        "\n",
        "Once again, i started off with a small network. From the above graphs we can see that there is little variance of performance between the training and validation set of images. The highest level of accuracy is reached at the very end of the training cycle (at epoch 19).\n",
        "\n",
        "<br>\n",
        "\n",
        "![2 conv 124,160,186 filter Acc (2,2)](https://drive.google.com/uc?export=view&id=1_bdG4M_t-YxWbNVaZjKbhb1tg73Md_Mc)\n",
        "![2 conv 124,160,186 filter Loss (2,2)](https://drive.google.com/uc?export=view&id=19N0JG2q81wML06uarcZPSo8lU0RxZEmX)\n",
        "\n",
        "In contrast, when using 3 convolutional layers with a greater amount of filters, there is a much greater variance in performance between the training and validation images. This is highlighted by the graphs above presenting the performance of the model with filters = (124,160,186). It also seems that the model starts to overfit towards the end. \n",
        "\n",
        "Just like before, we can see from the results table that increasing the number of filters withing the three convolutional layers has little to no impact on when the peak accuracy is reached. Regarding the value of the peak accuracy however, the highest accuracy recorded increases as the size (complexity) of the model increases. \n",
        "\n",
        "\n",
        "\n",
        "\n",
        "\n",
        "\n"
      ]
    },
    {
      "cell_type": "markdown",
      "metadata": {
        "id": "_9Mkfi9Jdq5o"
      },
      "source": [
        "When using small models with low amount of filters, in each of these sets of experiments, the model generally underperformed (underfitted). However, when the size of the model was increased, by adding more filters, the model started to overfit. This makes sense becasue if the model is too big and complex for the dataset, it may fit the data too well. In turn, the model will struggle to generalise on unseen data (the validation set). \n",
        "\n",
        "The very best validation accuracy was reached when using 2 convolutional layers (0.9474). This suggests, one layer may not be enough to learn the complex patterns and features of these x-rays, however three may be too much.  \n",
        "\n",
        "For the 1 layer experiments, it seemed that when the peak validation accuracy was reached was farely constant (epoch 19 or 20). When using anymore layers, there is a little more varience (epoch 17 -20). \n",
        "\n"
      ]
    },
    {
      "cell_type": "markdown",
      "metadata": {
        "id": "RgCJUln9VK_n"
      },
      "source": [
        "##<font color='forestgreen'>**Regularisation**</font>\n",
        "\n",
        "Regularisation refers to techniques in machine learning that reduce error and overfitting by fitting a function onto the given training set. This in turn improves the model's performance on the unseen data."
      ]
    },
    {
      "cell_type": "markdown",
      "metadata": {
        "id": "LsJaJJ3gVOPW"
      },
      "source": [
        "### **Dropout**\n",
        "\n",
        "Dropout is a common method of regularisation that works by dropping some layer outputs during training so that they do not contribute any information during those updates. This forces other active neurons to learn harder. For each update different outputs will be dropped at random. Dropout rate refers to the probability of a given node in a layer being trained. \n",
        "\n",
        "<br>\n",
        "\n",
        "|Dropout Rate|Val-Accuracy|Optimum epoch|\n",
        "|:-------|:-------|:-------|\n",
        "|0.20|0.9416|19\n",
        "|0.35|0.9416|17\n",
        "|0.50|0.9465|19\n",
        "\n",
        "![No Dropout)](https://drive.google.com/uc?export=view&id=19N0JG2q81wML06uarcZPSo8lU0RxZEmX)\n",
        "![Dropout (0.2)](https://drive.google.com/uc?export=view&id=1anPsMVXDjXzoAbBNN7OPqpXN0NSxE950)\n",
        "![Dropout 0.35](https://drive.google.com/uc?export=view&id=1j9n1Nge2YqENZLjSVJxZ8-nkLBawe-6P)\n",
        "![Dropout 0.5](https://drive.google.com/uc?export=view&id=1BiWMiiDKNd5nEqiqdi8puXGNLXQHTP-2)\n",
        "\n",
        "The graphs above present the performance of the non-dropout model, dropout [0.2], dropout [0.35] and dropout [0.5], from left to right. As the Dropout rate is increased, overfitting decreases. \n",
        "\n",
        "\n",
        "\n",
        "\n",
        "\n",
        "\n",
        "\n",
        "\n",
        "\n",
        "\n"
      ]
    },
    {
      "cell_type": "markdown",
      "metadata": {
        "id": "4ePCV2IqUjxa"
      },
      "source": [
        "### **L1 + L2 Regularisation**\n",
        "\n",
        "L1 and L2 Regularisation are some of the most common methods of regularisation used. These update the general cost function by adding another term known as the regularization term. Due to the addition of this regularization term, the values of weight matrices decrease because it assumes that a neural network with smaller weight matrices leads to simpler models. Therefore, it will also reduce overfitting to quite an extent (Link 1).\n",
        "\n",
        "Lambda is used to represent the value parameter that you can adjust when using L1 or L2 regularisation. Lambda can take a value between 0 and 1. The greater the value, the heavier the added weight. \n",
        "\n",
        "<br><br><br>\n",
        "\n",
        "|Type|Lambda Value|Val-Accuracy|Optimum epoch|\n",
        "|:-------|:-------|:-------|:-------|\n",
        "|L1|0.0001|0.9153|17\n",
        "|L2|0.0001|0.9441|18\n",
        "\n",
        "<br>\n",
        "\n",
        "![L1 Regularisation Loss)](https://drive.google.com/uc?export=view&id=1UGWg_Kb8IvhJ134d6xvPo9jODMEUmqiI)\n",
        "![L2 Regularisation)](https://drive.google.com/uc?export=view&id=1ONXI2Z9v8LZOyxMepXWqksxdXj-he4o_)\n",
        "\n",
        "From the loss graphs, l1 regularisation (on the left) looks to be more effective in reducing overfitting than l2. Both have similar peak accuracy values that occur as similar points in the training process. \n",
        "\n",
        "<br><br>\n",
        "\n",
        "\n"
      ]
    },
    {
      "cell_type": "markdown",
      "metadata": {
        "id": "u4sdDMD7lVzj"
      },
      "source": [
        ""
      ]
    },
    {
      "cell_type": "markdown",
      "metadata": {
        "id": "agP0xTfQkuuj"
      },
      "source": [
        ""
      ]
    },
    {
      "cell_type": "markdown",
      "metadata": {
        "id": "KNjpN-u31mZE"
      },
      "source": [
        "### **Early Stopping**\n",
        "\n",
        "Early stopping is another popular method of reducing overfitting. This technique works by monitoring the validation performance. When performance stops improving the training process stops (figure 2). Patience refers to the number of epochs training continues for after improvements have stopped. Validation accuracy will be the value monitored for early stopping. \n",
        "\n",
        "<br>\n",
        "\n",
        "|Monitor|Patience|min_delta|Val-Accuracy|Epochs|Optimum epoch|\n",
        "|:-------|:-------|:-------|:-------|:-------|:-------|\n",
        "|val_accuracy|6|0.001|0.9424|23|17\n",
        "|val_loss|6|0.001|0.9342|20|16\n",
        "\n",
        "\n"
      ]
    },
    {
      "cell_type": "markdown",
      "metadata": {
        "id": "KL_ZI5lnVHUb"
      },
      "source": [
        "##<font color='forestgreen'>**Convolutional Grid Experiments**</font>"
      ]
    },
    {
      "cell_type": "markdown",
      "metadata": {
        "id": "fVnUeqYiVJCO"
      },
      "source": [
        "Convolutional layers work by moving a square grid across the input image. For each point on the image, a value is calculated based on the grid using a convolutional operation. The size of the grid determines the amount of pixels that are worked on at a time. So far, a 2 by 2 grid has been used for the experiments. The following experiment will test the impact on performance of using a 3 by 3 grid instead. \n",
        "\n",
        "|Grid Size|Model|Val-Accuracy|Optimum epoch|\n",
        "|:-------|:-------|:-------|:-------|\n",
        "|(2,2)|32-64-96|0.9043|20\n",
        "|(3,3)|32-64-96|0.9308|18\n",
        "|(5,5)|32-64-96|0.9268|20\n",
        "\n",
        "\n",
        "Strides in convolutional layers, refer to the steps the grid takes. By default, the stride length is (1,1). This means the grid is moved one pixel right for each horizontal movement of the grid and one pixel down for each vertical movement of the grid.\n",
        "\n",
        "|Model|Stride length|Val-Accuracy|Optimum epoch|\n",
        "|:-------|:-------|:-------|:-------|\n",
        "|32-64-128|(1,1)|0.9383|15\n",
        "|32-64-128|(2,2)|0.9301|14\n",
        "|32-64-128|(3,3)|0.9263|13\n",
        "\n",
        "\n",
        "\n"
      ]
    },
    {
      "cell_type": "markdown",
      "metadata": {
        "id": "jqWbkvXBoE2i"
      },
      "source": [
        "##<font color='forestgreen'>**Testing**</font>\n",
        "\n",
        "In the following section the finalised model is built and tested on the test set. 'model.evaluate' is used to provide a single value for accuracy and loss."
      ]
    },
    {
      "cell_type": "code",
      "metadata": {
        "id": "xX6kVTArrazA"
      },
      "source": [
        "from tensorflow.keras import models\n",
        "from tensorflow.keras import layers\n",
        "from tensorflow.keras import regularizers\n",
        "from keras.callbacks import EarlyStopping\n",
        "\n",
        "\n",
        "#Build network\n",
        "model = models.Sequential()\n",
        "model.add(layers.Conv2D(32,(3,3), activation='relu', input_shape=X.shape[1:]))\n",
        "model.add(layers.MaxPooling2D((2,2)))\n",
        "model.add(layers.Conv2D(64, (3,3), activation='relu'))\n",
        "model.add(layers.MaxPooling2D((2,2)))\n",
        "model.add(layers.Conv2D(128, (3,3), activation='relu'))\n",
        "model.add(layers.MaxPooling2D((2,2)))\n",
        "model.add(layers.Dropout(0.5))\n",
        "\n",
        "model.add(layers.Flatten())\n",
        "model.add(layers.Dense(512, activation='relu'))\n",
        "#model.add(layers.Dropout(0.5))\n",
        "model.add(layers.Dense(1, activation='sigmoid'))\n",
        "\n",
        "model.compile(loss='binary_crossentropy',\n",
        "             optimizer='adam',\n",
        "             metrics=['accuracy']\n",
        "             )\n",
        "\n",
        "history = model.fit(x_test,\n",
        "                    y_test,\n",
        "                    batch_size=64,\n",
        "                    epochs=20,\n",
        "                    )\n"
      ],
      "execution_count": null,
      "outputs": []
    },
    {
      "cell_type": "code",
      "metadata": {
        "colab": {
          "base_uri": "https://localhost:8080/",
          "height": 0
        },
        "id": "4oLXPq-sDvOx",
        "outputId": "d98276c3-f0c8-4aeb-d694-9ab511858975"
      },
      "source": [
        "#model.evaluate provides a value to measure generalisablilty \n",
        "result = model.evaluate(x_test, y_test)\n",
        "\n",
        "result"
      ],
      "execution_count": 16,
      "outputs": [
        {
          "output_type": "stream",
          "text": [
            "48/48 [==============================] - 3s 53ms/step - loss: 0.1199 - accuracy: 0.9586\n"
          ],
          "name": "stdout"
        },
        {
          "output_type": "execute_result",
          "data": {
            "text/plain": [
              "[0.1199469119310379, 0.9585526585578918]"
            ]
          },
          "metadata": {
            "tags": []
          },
          "execution_count": 16
        }
      ]
    },
    {
      "cell_type": "code",
      "metadata": {
        "id": "kBwAU7OatTzk"
      },
      "source": [
        "#plot accuracy performance of final model on test set\n",
        "history_dict = history.history\n",
        "\n",
        "def plot_acc():\n",
        "    \n",
        "    plt.clf()\n",
        "\n",
        "    acc = history_dict['accuracy']\n",
        "    \n",
        "    epochs = range(1, len(acc) + 1)\n",
        "    \n",
        "    plt.plot(epochs, acc, 'bo')\n",
        "    plt.title('Test Accuracy')\n",
        "    plt.xlabel('Epochs')\n",
        "    plt.ylabel('Accuracy')\n",
        "    plt.legend()\n",
        "\n",
        "    plt.savefig('test (acc).png', dpi=300)\n",
        "\n",
        "    plt.show()"
      ],
      "execution_count": 12,
      "outputs": []
    },
    {
      "cell_type": "code",
      "metadata": {
        "colab": {
          "base_uri": "https://localhost:8080/",
          "height": 312
        },
        "id": "o_Hb39hltWCA",
        "outputId": "5187128a-526d-4909-ba1d-8a0f29cd8490"
      },
      "source": [
        "plot_acc()"
      ],
      "execution_count": 13,
      "outputs": [
        {
          "output_type": "stream",
          "text": [
            "No handles with labels found to put in legend.\n"
          ],
          "name": "stderr"
        },
        {
          "output_type": "display_data",
          "data": {
            "image/png": "[encoded data removed]",
            "text/plain": [
              "<Figure size 432x288 with 1 Axes>"
            ]
          },
          "metadata": {
            "tags": [],
            "needs_background": "light"
          }
        }
      ]
    },
    {
      "cell_type": "code",
      "metadata": {
        "id": "7qM0s3jKtaIm"
      },
      "source": [
        "#plot loss performance of final model on test set\n",
        "def plot_loss():\n",
        "\n",
        "    history_dict = history.history\n",
        "    loss = history_dict['loss']\n",
        "    \n",
        "    epochs = range(1, len(loss) + 1)\n",
        "\n",
        "    blue_dots = 'bo'\n",
        "    \n",
        "    plt.plot(epochs, loss, blue_dots, label = 'Training loss')\n",
        "    plt.title('Test Loss')\n",
        "    plt.xlabel('Epochs')\n",
        "    plt.ylabel('Loss')\n",
        "    plt.legend()\n",
        "\n",
        "    plt.savefig('test (loss).png', dpi=300)\n",
        "\n",
        "    plt.show()"
      ],
      "execution_count": 14,
      "outputs": []
    },
    {
      "cell_type": "code",
      "metadata": {
        "colab": {
          "base_uri": "https://localhost:8080/",
          "height": 295
        },
        "id": "UDoPrsk_tdoc",
        "outputId": "4abd3584-e6fe-4485-b82c-de0145afb794"
      },
      "source": [
        "plot_loss()"
      ],
      "execution_count": 15,
      "outputs": [
        {
          "output_type": "display_data",
          "data": {
            "image/png": "[encoded data removed]",
            "text/plain": [
              "<Figure size 432x288 with 1 Axes>"
            ]
          },
          "metadata": {
            "tags": [],
            "needs_background": "light"
          }
        }
      ]
    },
    {
      "cell_type": "code",
      "metadata": {
        "id": "UawEeulmI69I"
      },
      "source": [
        ""
      ],
      "execution_count": null,
      "outputs": []
    }
  ]
}